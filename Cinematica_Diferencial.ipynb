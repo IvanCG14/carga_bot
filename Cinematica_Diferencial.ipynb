import numpy as np
import matplotlib.pyplot as plt

# Parámetros del robot
r = 0.1   # radio de rueda [m]
L = 0.59  # distancia entre ruedas [m]

# Tus mensajes cmd_vel (linear.x, angular.z)
cmd_vels = [
    (0.1421166385082996, -0.2588533689516450),
    (0.1375480637534537, -0.2630708179650420),
    (0.1308867445501466, -0.2788388435507048),
    (0.1266427411138995, -0.2957524356249902),
    (0.1225336799644471, -0.3052620881447533),
]
# Paso de tiempo (ej: 10 Hz → 0.1 s)
dt = 0.1  

# Pose inicial
x, y, theta = 0.0, 0.0, 0.0
traj_x, traj_y = [x], [y]

print(f"{'Paso':<5}{'w_r(rad/s)':<15}{'w_l(rad/s)':<15}{'x(m)':<12}{'y(m)':<12}{'theta(rad)':<12}")
print("-"*70)

for i, (v, omega) in enumerate(cmd_vels, start=1):
    # Calcular velocidades de ruedas
    w_r = (2*v + omega*L) / (2*r)
    w_l = (2*v - omega*L) / (2*r)

    # Cinemática diferencial
    x += (r/2.0)*(w_r + w_l) * np.cos(theta) * dt
    y += (r/2.0)*(w_r + w_l) * np.sin(theta) * dt
    theta += (r/L)*(w_r - w_l) * dt

    traj_x.append(x)
    traj_y.append(y)

    # Imprimir tabla con valores
    print(f"{i:<5}{w_r:<15.6f}{w_l:<15.6f}{x:<12.6f}{y:<12.6f}{theta:<12.6f}")

# Graficar trayectoria
plt.plot(traj_x, traj_y, 'ro-')
plt.xlabel("X [m]")
plt.ylabel("Y [m]")
plt.title("Trayectoria calculada con L, r y cmd_vel")
plt.grid(True)
plt.axis("equal")
plt.show()
